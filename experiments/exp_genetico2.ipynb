{
 "cells": [
  {
   "cell_type": "code",
   "execution_count": null,
   "metadata": {
    "collapsed": true
   },
   "outputs": [],
   "source": [
    "import pandas as pd\n",
    "import numpy as np\n",
    "import matplotlib.pyplot as plt\n",
    "import os\n",
    "import csv\n",
    "import subprocess\n",
    "import sys\n",
    "\n",
    "# Path del binario del genético\n",
    "binario = '../bin/genetic_trainer'\n",
    "\n",
    "# Cosas que no tocaremos\n",
    "n = 7\n",
    "m = 6\n",
    "c = 4\n",
    "p = str(n*m*2)\n",
    "generaciones = 50\n",
    "cross = 'c:completo'\n",
    "mut = 'm:multi'\n",
    "\n",
    "# Para crear el comando que ejecuta el genético\n",
    "def comando_genetico(fitness, seleccion,pob,p_mut):\n",
    "    res = [binario] + [str(n)]+[str(m)]+[str(c)]+[str(p)]\n",
    "    res = res+ [str(generaciones)] +[str(pob)]+[str(p_mut)]\n",
    "    res = res+[fitness]+[seleccion]+[cross]+[mut]\n",
    "    return res\n",
    "\n",
    "# Para ejecutar subprocess en shell con stdout live\n",
    "def shell(command):\n",
    "    p = subprocess.Popen(command, stdout=subprocess.PIPE, bufsize=1)\n",
    "    for line in iter(p.stdout.readline, b''):\n",
    "        sys.stdout.write(line)\n",
    "    p.stdout.close()\n",
    "    p.wait()\n",
    "\n",
    "        \n",
    "# Para guardar los logs\n",
    "\n",
    "# Leo los fitness, los formateo en lista\n",
    "def save_logs(path):\n",
    "    with open('log/best_fitness_log.dat') as file:\n",
    "        lista = file.read().splitlines()\n",
    "    fitness = list(map(float, lista))\n",
    "\n",
    "    # Leo los progenitores, los formateo en lista \n",
    "    with open('log/progenitores.dat') as file:\n",
    "        lista = file.read().splitlines()\n",
    "    for i in range(len(lista)):\n",
    "        lista[i] = lista[i].split(',')\n",
    "        lista[i] = list(map(float, lista[i]))\n",
    "    progenitores = lista\n",
    "\n",
    "    # Leo el ganador\n",
    "    with open('log/ganador.dat') as file:\n",
    "        lista = file.read().splitlines()\n",
    "    ganador_fitness = float(lista[0])\n",
    "    ganador_genoma = list(map(float, lista[1].split(',')))\n",
    "\n",
    "    # Guardo todo como una super tupla\n",
    "    np.save(path,(fitness,progenitores,ganador_fitness,ganador_genoma))"
   ]
  },
  {
   "cell_type": "markdown",
   "metadata": {},
   "source": [
    "## Cambiando proba mutacion"
   ]
  },
  {
   "cell_type": "code",
   "execution_count": null,
   "metadata": {
    "collapsed": true
   },
   "outputs": [],
   "source": [
    "fit = 'f:vs_random'\n",
    "sel = 's:rank'\n",
    "pob = 10\n",
    "p_mut_s_pablo = [0.5,0.25,0.1,0.05]\n",
    "p_mut_s_nico = [0.02,0.005]\n",
    "p_mut_filename_pablo = [\"save/genetico/exp_p_mut_\" + str(pm) + \".npy\" for pm in p_mut_s_pablo]\n",
    "p_mut_filename_nico = [\"save/genetico/exp_p_mut_\" + str(pm) + \".npy\" for pm in p_mut_s_nico]"
   ]
  },
  {
   "cell_type": "markdown",
   "metadata": {},
   "source": [
    "## PABLO"
   ]
  },
  {
   "cell_type": "code",
   "execution_count": null,
   "metadata": {
    "collapsed": true
   },
   "outputs": [],
   "source": [
    "for i in range(len(p_mut_s_pablo)):\n",
    "    command = comando_genetico(fit,sel,pob,p_mut_s_pablo[i])    \n",
    "    print(\"LLAMANDO A: \" + reduce(lambda x,y: x +\" \"+y, command))\n",
    "    # Ejecuto el entrenamiento. En ./log/ me deja los .dat como logs.\n",
    "    shell(command)\n",
    "    # Guardo los logs\n",
    "    save_logs(p_mut_filename_pablo[i])    "
   ]
  },
  {
   "cell_type": "markdown",
   "metadata": {},
   "source": [
    "## NICO"
   ]
  },
  {
   "cell_type": "code",
   "execution_count": null,
   "metadata": {
    "collapsed": true
   },
   "outputs": [],
   "source": [
    "for i in range(len(p_mut_s_nico)):\n",
    "    command = comando_genetico(fit,sel,pob,p_mut_s_nico[i])    \n",
    "    # Ejecuto el entrenamiento. En ./log/ me deja los .dat como logs.\n",
    "    shell(command)\n",
    "    # Guardo los logs\n",
    "    save_logs(p_mut_filename_nico[i])  "
   ]
  },
  {
   "cell_type": "code",
   "execution_count": 45,
   "metadata": {
    "scrolled": false
   },
   "outputs": [],
   "source": [
    "plt.rcParams.update({'font.size': 23})\n",
    "# Ploteo todas las curvas\n",
    "plt.figure(figsize=(12,10))\n",
    "for i in range(len(p_mut_s_nico)+len(p_mut_s_pablo)):\n",
    "    (fitness,progenitores,ganador_fitness,ganador_genoma) = np.load((p_mut_filename_nico+p_mut_filename_pablo)[i])\n",
    "    plt.plot(fitness,label=str((p_mut_s_nico+p_mut_s_pablo)[i]))\n",
    "\n",
    "plt.legend(loc='best')\n",
    "plt.xlabel('Generacion')\n",
    "plt.xlim(0,50)\n",
    "plt.ylabel('Fitness')\n",
    "# plt.show()\n",
    "plt.tight_layout()\n",
    "plt.savefig(\"plots/genetico/exp_p_mutacion.pdf\")\n",
    "# plt.show()\n"
   ]
  },
  {
   "cell_type": "code",
   "execution_count": 46,
   "metadata": {
    "collapsed": true
   },
   "outputs": [],
   "source": [
    "compare_label = \"save/genetico/exp_p_mut_0.1.npy\"\n",
    "(fitness_sub,progenitores,ganador_fitness,ganador_genoma) = np.load(compare_label)\n",
    "names = (p_mut_filename_nico+p_mut_filename_pablo)\n",
    "plt.figure(figsize=(12,10))\n",
    "for i in range(len(p_mut_s_nico)+len(p_mut_s_pablo)):\n",
    "    if compare_label != names[i]:\n",
    "        (fitness,progenitores,ganador_fitness,ganador_genoma) = np.load((p_mut_filename_nico+p_mut_filename_pablo)[i])\n",
    "        plt.plot(np.array(fitness)-np.array(fitness_sub),label=str((p_mut_s_nico+p_mut_s_pablo)[i]))\n",
    "plt.legend(loc='best')\n",
    "plt.xlabel('Generacion')\n",
    "plt.xlim(0,50)\n",
    "plt.ylabel('Fitness')\n",
    "# plt.show()\n",
    "plt.tight_layout()\n",
    "plt.axhline(0, color=\"red\")\n",
    "# plt.show()\n",
    "plt.savefig(\"plots/genetico/p_mutacion_vs_.1.pdf\")\n"
   ]
  }
 ],
 "metadata": {
  "kernelspec": {
   "display_name": "Python 2",
   "language": "python",
   "name": "python2"
  },
  "language_info": {
   "codemirror_mode": {
    "name": "ipython",
    "version": 2
   },
   "file_extension": ".py",
   "mimetype": "text/x-python",
   "name": "python",
   "nbconvert_exporter": "python",
   "pygments_lexer": "ipython2",
   "version": "2.7.13"
  },
  "toc": {
   "nav_menu": {},
   "number_sections": false,
   "sideBar": false,
   "skip_h1_title": false,
   "toc_cell": false,
   "toc_position": {},
   "toc_section_display": "block",
   "toc_window_display": true
  }
 },
 "nbformat": 4,
 "nbformat_minor": 2
}
